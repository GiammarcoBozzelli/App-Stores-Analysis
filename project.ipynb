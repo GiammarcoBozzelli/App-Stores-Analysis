{
 "cells": [
  {
   "cell_type": "code",
   "execution_count": 2,
   "metadata": {
    "collapsed": true
   },
   "outputs": [],
   "source": [
    "import csv\n",
    "import pandas as pd\n",
    "import os\n",
    "import os.path"
   ]
  },
  {
   "cell_type": "code",
   "execution_count": 4,
   "outputs": [
    {
     "name": "stdout",
     "output_type": "stream",
     "text": [
      "D:\\Appstore_coding\n"
     ]
    },
    {
     "data": {
      "text/plain": "                                                    name          category  \\\n0                            Sonic the Hedgehog™ Classic            Action   \n1                                            Push'em all            Action   \n2                                        Sky Fighters 3D            Action   \n3                                            Robbery Bob            Action   \n4                                         Shadow Fight 2            Action   \n...                                                  ...               ...   \n53727  Omni Websites: Free Website Builder & Online S...      Productivity   \n53728                           Web Alert Expansion Pack      Productivity   \n53729  Reading Comprehension – GRE® Test Prep & Practice         Education   \n53730                     Soulspace Christian Meditation  Health & Fitness   \n53731        Relax & Sleep Well: Hypnosis and Meditation  Health & Fitness   \n\n       rating           reviews        price                size     installs  \\\n0         4.1     193,898 total            0                 61M   10,000,000   \n1         3.8     119,679 total            0                 41M   10,000,000   \n2         4.2     196,685 total            0                 19M   10,000,000   \n3         4.3     984,779 total            0                 42M   50,000,000   \n4         4.6  12,861,970 total            0                142M  100,000,000   \n...       ...               ...          ...                 ...          ...   \n53727     3.4         365 total            0                4.0M       50,000   \n53728     4.4         480 total  ₫44,500 Buy                1.1M        5,000   \n53729     4.4         607 total            0                3.1M       50,000   \n53730     4.8         273 total            0                 29M       10,000   \n53731     4.7       6,715 total            0  Varies with device      500,000   \n\n                    offered_by  \n0                         SEGA  \n1                       VOODOO  \n2           Doodle Mobile Ltd.  \n3               Level Eight AB  \n4                        NEKKI  \n...                        ...  \n53727           Just Dial Ltd.  \n53728                Web Alert  \n53729              Timbre Inc.  \n53730              Chois & Co.  \n53731  Diviniti Publishing Ltd  \n\n[53732 rows x 8 columns]",
      "text/html": "<div>\n<style scoped>\n    .dataframe tbody tr th:only-of-type {\n        vertical-align: middle;\n    }\n\n    .dataframe tbody tr th {\n        vertical-align: top;\n    }\n\n    .dataframe thead th {\n        text-align: right;\n    }\n</style>\n<table border=\"1\" class=\"dataframe\">\n  <thead>\n    <tr style=\"text-align: right;\">\n      <th></th>\n      <th>name</th>\n      <th>category</th>\n      <th>rating</th>\n      <th>reviews</th>\n      <th>price</th>\n      <th>size</th>\n      <th>installs</th>\n      <th>offered_by</th>\n    </tr>\n  </thead>\n  <tbody>\n    <tr>\n      <th>0</th>\n      <td>Sonic the Hedgehog™ Classic</td>\n      <td>Action</td>\n      <td>4.1</td>\n      <td>193,898 total</td>\n      <td>0</td>\n      <td>61M</td>\n      <td>10,000,000</td>\n      <td>SEGA</td>\n    </tr>\n    <tr>\n      <th>1</th>\n      <td>Push'em all</td>\n      <td>Action</td>\n      <td>3.8</td>\n      <td>119,679 total</td>\n      <td>0</td>\n      <td>41M</td>\n      <td>10,000,000</td>\n      <td>VOODOO</td>\n    </tr>\n    <tr>\n      <th>2</th>\n      <td>Sky Fighters 3D</td>\n      <td>Action</td>\n      <td>4.2</td>\n      <td>196,685 total</td>\n      <td>0</td>\n      <td>19M</td>\n      <td>10,000,000</td>\n      <td>Doodle Mobile Ltd.</td>\n    </tr>\n    <tr>\n      <th>3</th>\n      <td>Robbery Bob</td>\n      <td>Action</td>\n      <td>4.3</td>\n      <td>984,779 total</td>\n      <td>0</td>\n      <td>42M</td>\n      <td>50,000,000</td>\n      <td>Level Eight AB</td>\n    </tr>\n    <tr>\n      <th>4</th>\n      <td>Shadow Fight 2</td>\n      <td>Action</td>\n      <td>4.6</td>\n      <td>12,861,970 total</td>\n      <td>0</td>\n      <td>142M</td>\n      <td>100,000,000</td>\n      <td>NEKKI</td>\n    </tr>\n    <tr>\n      <th>...</th>\n      <td>...</td>\n      <td>...</td>\n      <td>...</td>\n      <td>...</td>\n      <td>...</td>\n      <td>...</td>\n      <td>...</td>\n      <td>...</td>\n    </tr>\n    <tr>\n      <th>53727</th>\n      <td>Omni Websites: Free Website Builder &amp; Online S...</td>\n      <td>Productivity</td>\n      <td>3.4</td>\n      <td>365 total</td>\n      <td>0</td>\n      <td>4.0M</td>\n      <td>50,000</td>\n      <td>Just Dial Ltd.</td>\n    </tr>\n    <tr>\n      <th>53728</th>\n      <td>Web Alert Expansion Pack</td>\n      <td>Productivity</td>\n      <td>4.4</td>\n      <td>480 total</td>\n      <td>₫44,500 Buy</td>\n      <td>1.1M</td>\n      <td>5,000</td>\n      <td>Web Alert</td>\n    </tr>\n    <tr>\n      <th>53729</th>\n      <td>Reading Comprehension – GRE® Test Prep &amp; Practice</td>\n      <td>Education</td>\n      <td>4.4</td>\n      <td>607 total</td>\n      <td>0</td>\n      <td>3.1M</td>\n      <td>50,000</td>\n      <td>Timbre Inc.</td>\n    </tr>\n    <tr>\n      <th>53730</th>\n      <td>Soulspace Christian Meditation</td>\n      <td>Health &amp; Fitness</td>\n      <td>4.8</td>\n      <td>273 total</td>\n      <td>0</td>\n      <td>29M</td>\n      <td>10,000</td>\n      <td>Chois &amp; Co.</td>\n    </tr>\n    <tr>\n      <th>53731</th>\n      <td>Relax &amp; Sleep Well: Hypnosis and Meditation</td>\n      <td>Health &amp; Fitness</td>\n      <td>4.7</td>\n      <td>6,715 total</td>\n      <td>0</td>\n      <td>Varies with device</td>\n      <td>500,000</td>\n      <td>Diviniti Publishing Ltd</td>\n    </tr>\n  </tbody>\n</table>\n<p>53732 rows × 8 columns</p>\n</div>"
     },
     "execution_count": 4,
     "metadata": {},
     "output_type": "execute_result"
    }
   ],
   "source": [
    "print(os.getcwd())\n",
    "frame = pd.read_csv(os.path.join( os.getcwd(), 'playstore.csv'))\n",
    "frame = frame.drop(columns=['id'])\n",
    "frame.drop(frame.loc[:,'rate_5_pc':'updated'], inplace = True, axis = 1)\n",
    "frame.drop(frame.loc[:,'current_version':'in_app_products'], inplace = True, axis = 1)\n",
    "#frame.info\n",
    "frame"
   ],
   "metadata": {
    "collapsed": false,
    "pycharm": {
     "name": "#%%\n"
    }
   }
  },
  {
   "cell_type": "code",
   "execution_count": 32,
   "outputs": [],
   "source": [],
   "metadata": {
    "collapsed": false,
    "pycharm": {
     "name": "#%%\n"
    }
   }
  }
 ],
 "metadata": {
  "kernelspec": {
   "display_name": "Python 3",
   "language": "python",
   "name": "python3"
  },
  "language_info": {
   "codemirror_mode": {
    "name": "ipython",
    "version": 2
   },
   "file_extension": ".py",
   "mimetype": "text/x-python",
   "name": "python",
   "nbconvert_exporter": "python",
   "pygments_lexer": "ipython2",
   "version": "2.7.6"
  }
 },
 "nbformat": 4,
 "nbformat_minor": 0
}